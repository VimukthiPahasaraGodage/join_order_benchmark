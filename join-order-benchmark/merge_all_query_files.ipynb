{
 "cells": [
  {
   "cell_type": "code",
   "execution_count": 6,
   "id": "8f844155-a3b6-47b6-94cb-7f79ec4d5dda",
   "metadata": {},
   "outputs": [
    {
     "name": "stdout",
     "output_type": "stream",
     "text": [
      "Combined SQL written to: all_queries.sql\n",
      "Total number of queries: 113\n"
     ]
    }
   ],
   "source": [
    "import os\n",
    "\n",
    "num_queries = 0\n",
    "\n",
    "# Set the folder containing SQL files\n",
    "folder_path = \".\"\n",
    "# Set of filenames to exclude (case-sensitive, without path)\n",
    "exclude_files = {\"fkindexes.sql\", \"schema.sql\", \"all_queries.sql\"}\n",
    "\n",
    "# Output file path\n",
    "output_file = \"all_queries.sql\"\n",
    "\n",
    "with open(output_file, 'w', encoding='utf-8') as outfile:\n",
    "    for filename in sorted(os.listdir(folder_path)):\n",
    "        if filename.endswith('.sql') and filename not in exclude_files:\n",
    "            file_path = os.path.join(folder_path, filename)\n",
    "            with open(file_path, 'r', encoding='utf-8') as infile:\n",
    "                outfile.write(infile.read())\n",
    "                num_queries += 1\n",
    "\n",
    "print(f\"Combined SQL written to: {output_file}\")\n",
    "print(f\"Total number of queries: {num_queries}\")"
   ]
  },
  {
   "cell_type": "code",
   "execution_count": null,
   "id": "3dff6cc8-36ca-4f1a-96e7-274f6b0fba96",
   "metadata": {},
   "outputs": [],
   "source": []
  }
 ],
 "metadata": {
  "kernelspec": {
   "display_name": "Python [conda env:base] *",
   "language": "python",
   "name": "conda-base-py"
  },
  "language_info": {
   "codemirror_mode": {
    "name": "ipython",
    "version": 3
   },
   "file_extension": ".py",
   "mimetype": "text/x-python",
   "name": "python",
   "nbconvert_exporter": "python",
   "pygments_lexer": "ipython3",
   "version": "3.12.7"
  }
 },
 "nbformat": 4,
 "nbformat_minor": 5
}
